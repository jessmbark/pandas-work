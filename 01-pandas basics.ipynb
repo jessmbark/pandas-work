{
 "cells": [
  {
   "cell_type": "markdown",
   "id": "c8e1cb81-6b9e-4e41-abfb-03bb410afbd9",
   "metadata": {},
   "source": [
    "# Pandas basics"
   ]
  },
  {
   "cell_type": "code",
   "execution_count": 1,
   "id": "c2727f7f-9abf-4a76-b629-4d242065048d",
   "metadata": {},
   "outputs": [
    {
     "name": "stdout",
     "output_type": "stream",
     "text": [
      "01-pandas basics.ipynb continent_facts.csv    countries.csv\n"
     ]
    }
   ],
   "source": [
    "!ls"
   ]
  },
  {
   "cell_type": "code",
   "execution_count": 2,
   "id": "5f2bfb80-a35c-464c-8c2e-8b36013239ab",
   "metadata": {},
   "outputs": [
    {
     "name": "stdout",
     "output_type": "stream",
     "text": [
      "Note: you may need to restart the kernel to use updated packages.\n"
     ]
    }
   ],
   "source": [
    "%pip install --quiet pandas"
   ]
  },
  {
   "cell_type": "code",
   "execution_count": 7,
   "id": "ee4f82d8-2e6e-4d41-a99e-5398c5345228",
   "metadata": {},
   "outputs": [],
   "source": [
    "import pandas as pd"
   ]
  },
  {
   "cell_type": "code",
   "execution_count": 18,
   "id": "a15ded37-9169-4246-baae-c9c9d538bbe6",
   "metadata": {},
   "outputs": [
    {
     "data": {
      "text/html": [
       "<div>\n",
       "<style scoped>\n",
       "    .dataframe tbody tr th:only-of-type {\n",
       "        vertical-align: middle;\n",
       "    }\n",
       "\n",
       "    .dataframe tbody tr th {\n",
       "        vertical-align: top;\n",
       "    }\n",
       "\n",
       "    .dataframe thead th {\n",
       "        text-align: right;\n",
       "    }\n",
       "</style>\n",
       "<table border=\"1\" class=\"dataframe\">\n",
       "  <thead>\n",
       "    <tr style=\"text-align: right;\">\n",
       "      <th></th>\n",
       "      <th>country</th>\n",
       "      <th>continent</th>\n",
       "      <th>life_expectancy</th>\n",
       "      <th>population</th>\n",
       "      <th>gdp</th>\n",
       "    </tr>\n",
       "  </thead>\n",
       "  <tbody>\n",
       "    <tr>\n",
       "      <th>83</th>\n",
       "      <td>Japan</td>\n",
       "      <td>Asia</td>\n",
       "      <td>81.350</td>\n",
       "      <td>125720310</td>\n",
       "      <td>3590446333290</td>\n",
       "    </tr>\n",
       "    <tr>\n",
       "      <th>72</th>\n",
       "      <td>Hong Kong, China</td>\n",
       "      <td>Asia</td>\n",
       "      <td>80.361</td>\n",
       "      <td>6783317</td>\n",
       "      <td>203309577124</td>\n",
       "    </tr>\n",
       "    <tr>\n",
       "      <th>161</th>\n",
       "      <td>Switzerland</td>\n",
       "      <td>Europe</td>\n",
       "      <td>79.990</td>\n",
       "      <td>7167908</td>\n",
       "      <td>246475684488</td>\n",
       "    </tr>\n",
       "    <tr>\n",
       "      <th>7</th>\n",
       "      <td>Australia</td>\n",
       "      <td>Oceania</td>\n",
       "      <td>79.930</td>\n",
       "      <td>19164351</td>\n",
       "      <td>560384787591</td>\n",
       "    </tr>\n",
       "    <tr>\n",
       "      <th>160</th>\n",
       "      <td>Sweden</td>\n",
       "      <td>Europe</td>\n",
       "      <td>79.840</td>\n",
       "      <td>8860153</td>\n",
       "      <td>253754781920</td>\n",
       "    </tr>\n",
       "    <tr>\n",
       "      <th>...</th>\n",
       "      <td>...</td>\n",
       "      <td>...</td>\n",
       "      <td>...</td>\n",
       "      <td>...</td>\n",
       "      <td>...</td>\n",
       "    </tr>\n",
       "    <tr>\n",
       "      <th>3</th>\n",
       "      <td>Angola</td>\n",
       "      <td>Africa</td>\n",
       "      <td>45.234</td>\n",
       "      <td>13926373</td>\n",
       "      <td>34063908358</td>\n",
       "    </tr>\n",
       "    <tr>\n",
       "      <th>187</th>\n",
       "      <td>Zimbabwe</td>\n",
       "      <td>Africa</td>\n",
       "      <td>43.976</td>\n",
       "      <td>12509477</td>\n",
       "      <td>9319560365</td>\n",
       "    </tr>\n",
       "    <tr>\n",
       "      <th>31</th>\n",
       "      <td>Central African Rep.</td>\n",
       "      <td>Africa</td>\n",
       "      <td>43.727</td>\n",
       "      <td>3701607</td>\n",
       "      <td>2820624534</td>\n",
       "    </tr>\n",
       "    <tr>\n",
       "      <th>186</th>\n",
       "      <td>Zambia</td>\n",
       "      <td>Africa</td>\n",
       "      <td>41.802</td>\n",
       "      <td>10201562</td>\n",
       "      <td>10558616670</td>\n",
       "    </tr>\n",
       "    <tr>\n",
       "      <th>147</th>\n",
       "      <td>Sierra Leone</td>\n",
       "      <td>Africa</td>\n",
       "      <td>38.123</td>\n",
       "      <td>4143115</td>\n",
       "      <td>2141990455</td>\n",
       "    </tr>\n",
       "  </tbody>\n",
       "</table>\n",
       "<p>188 rows × 5 columns</p>\n",
       "</div>"
      ],
      "text/plain": [
       "                  country continent  life_expectancy  population  \\\n",
       "83                  Japan      Asia           81.350   125720310   \n",
       "72       Hong Kong, China      Asia           80.361     6783317   \n",
       "161           Switzerland    Europe           79.990     7167908   \n",
       "7               Australia   Oceania           79.930    19164351   \n",
       "160                Sweden    Europe           79.840     8860153   \n",
       "..                    ...       ...              ...         ...   \n",
       "3                  Angola    Africa           45.234    13926373   \n",
       "187              Zimbabwe    Africa           43.976    12509477   \n",
       "31   Central African Rep.    Africa           43.727     3701607   \n",
       "186                Zambia    Africa           41.802    10201562   \n",
       "147          Sierra Leone    Africa           38.123     4143115   \n",
       "\n",
       "               gdp  \n",
       "83   3590446333290  \n",
       "72    203309577124  \n",
       "161   246475684488  \n",
       "7     560384787591  \n",
       "160   253754781920  \n",
       "..             ...  \n",
       "3      34063908358  \n",
       "187     9319560365  \n",
       "31      2820624534  \n",
       "186    10558616670  \n",
       "147     2141990455  \n",
       "\n",
       "[188 rows x 5 columns]"
      ]
     },
     "execution_count": 18,
     "metadata": {},
     "output_type": "execute_result"
    }
   ],
   "source": [
    "df=pd.read_csv(\"countries.csv\")\n",
    "df.sort_values('life_expectancy',ascending=False)"
   ]
  },
  {
   "cell_type": "code",
   "execution_count": 23,
   "id": "7e354271-f451-4f4b-b617-5118896ba4a5",
   "metadata": {},
   "outputs": [
    {
     "data": {
      "text/html": [
       "<div>\n",
       "<style scoped>\n",
       "    .dataframe tbody tr th:only-of-type {\n",
       "        vertical-align: middle;\n",
       "    }\n",
       "\n",
       "    .dataframe tbody tr th {\n",
       "        vertical-align: top;\n",
       "    }\n",
       "\n",
       "    .dataframe thead th {\n",
       "        text-align: right;\n",
       "    }\n",
       "</style>\n",
       "<table border=\"1\" class=\"dataframe\">\n",
       "  <thead>\n",
       "    <tr style=\"text-align: right;\">\n",
       "      <th></th>\n",
       "      <th>country</th>\n",
       "      <th>continent</th>\n",
       "      <th>life_expectancy</th>\n",
       "      <th>population</th>\n",
       "      <th>gdp</th>\n",
       "    </tr>\n",
       "  </thead>\n",
       "  <tbody>\n",
       "  </tbody>\n",
       "</table>\n",
       "</div>"
      ],
      "text/plain": [
       "Empty DataFrame\n",
       "Columns: [country, continent, life_expectancy, population, gdp]\n",
       "Index: []"
      ]
     },
     "execution_count": 23,
     "metadata": {},
     "output_type": "execute_result"
    }
   ],
   "source": [
    "#df[df['life_expectancy']>75 and df['continent']=='Asia']\n",
    "df[(df['life_expectancy']>75)&(df['country']=='Asia')]"
   ]
  },
  {
   "cell_type": "code",
   "execution_count": 26,
   "id": "ca7c34e3-3b23-4560-a911-6b41204c1c9c",
   "metadata": {},
   "outputs": [
    {
     "data": {
      "text/plain": [
       "66.50153603526596"
      ]
     },
     "execution_count": 26,
     "metadata": {},
     "output_type": "execute_result"
    }
   ],
   "source": [
    "df['life_expectancy'].mean()"
   ]
  },
  {
   "cell_type": "code",
   "execution_count": 27,
   "id": "70304210-33d1-45f2-894a-ed280c112fe7",
   "metadata": {},
   "outputs": [
    {
     "data": {
      "text/plain": [
       "70.04150000000001"
      ]
     },
     "execution_count": 27,
     "metadata": {},
     "output_type": "execute_result"
    }
   ],
   "source": [
    "df['life_expectancy'].median()"
   ]
  },
  {
   "cell_type": "code",
   "execution_count": 29,
   "id": "82869cb9-bbfd-44df-ba93-0cf657479259",
   "metadata": {},
   "outputs": [
    {
     "data": {
      "text/plain": [
       "48316204002444"
      ]
     },
     "execution_count": 29,
     "metadata": {},
     "output_type": "execute_result"
    }
   ],
   "source": [
    "df['gdp'].sum()"
   ]
  },
  {
   "cell_type": "code",
   "execution_count": 30,
   "id": "91de9065-ddbe-418d-87dc-bfc36a276815",
   "metadata": {},
   "outputs": [
    {
     "data": {
      "text/plain": [
       "count    188.000000\n",
       "mean      66.501536\n",
       "std       10.298458\n",
       "min       38.123000\n",
       "25%       59.663750\n",
       "50%       70.041500\n",
       "75%       74.134500\n",
       "max       81.350000\n",
       "Name: life_expectancy, dtype: float64"
      ]
     },
     "execution_count": 30,
     "metadata": {},
     "output_type": "execute_result"
    }
   ],
   "source": [
    "df['life_expectancy'].describe()"
   ]
  },
  {
   "cell_type": "code",
   "execution_count": 35,
   "id": "386776be-e525-4053-a56a-e181cf604eb4",
   "metadata": {},
   "outputs": [],
   "source": [
    "df['gdp_per_capita']=df['gdp']/df['population']"
   ]
  },
  {
   "cell_type": "code",
   "execution_count": 36,
   "id": "992318fd-08b5-46e8-86ec-d808d266823d",
   "metadata": {},
   "outputs": [
    {
     "data": {
      "text/html": [
       "<div>\n",
       "<style scoped>\n",
       "    .dataframe tbody tr th:only-of-type {\n",
       "        vertical-align: middle;\n",
       "    }\n",
       "\n",
       "    .dataframe tbody tr th {\n",
       "        vertical-align: top;\n",
       "    }\n",
       "\n",
       "    .dataframe thead th {\n",
       "        text-align: right;\n",
       "    }\n",
       "</style>\n",
       "<table border=\"1\" class=\"dataframe\">\n",
       "  <thead>\n",
       "    <tr style=\"text-align: right;\">\n",
       "      <th></th>\n",
       "      <th>country</th>\n",
       "      <th>continent</th>\n",
       "      <th>life_expectancy</th>\n",
       "      <th>population</th>\n",
       "      <th>gdp</th>\n",
       "      <th>gdp_per_capita</th>\n",
       "    </tr>\n",
       "  </thead>\n",
       "  <tbody>\n",
       "    <tr>\n",
       "      <th>0</th>\n",
       "      <td>Afghanistan</td>\n",
       "      <td>Asia</td>\n",
       "      <td>54.863</td>\n",
       "      <td>22856302</td>\n",
       "      <td>15153728226</td>\n",
       "      <td>663.0</td>\n",
       "    </tr>\n",
       "    <tr>\n",
       "      <th>1</th>\n",
       "      <td>Albania</td>\n",
       "      <td>Europe</td>\n",
       "      <td>74.200</td>\n",
       "      <td>3071856</td>\n",
       "      <td>12886435920</td>\n",
       "      <td>4195.0</td>\n",
       "    </tr>\n",
       "  </tbody>\n",
       "</table>\n",
       "</div>"
      ],
      "text/plain": [
       "       country continent  life_expectancy  population          gdp  \\\n",
       "0  Afghanistan      Asia           54.863    22856302  15153728226   \n",
       "1      Albania    Europe           74.200     3071856  12886435920   \n",
       "\n",
       "   gdp_per_capita  \n",
       "0           663.0  \n",
       "1          4195.0  "
      ]
     },
     "execution_count": 36,
     "metadata": {},
     "output_type": "execute_result"
    }
   ],
   "source": [
    "df.head(2)"
   ]
  },
  {
   "cell_type": "code",
   "execution_count": 37,
   "id": "62dfee2f-0a24-42e6-8ebf-9af16369d282",
   "metadata": {},
   "outputs": [
    {
     "data": {
      "text/plain": [
       "continent\n",
       "Africa        52.1025\n",
       "Asia          70.4275\n",
       "Europe        75.5800\n",
       "N. America    70.5765\n",
       "Oceania       67.4955\n",
       "S. America    70.7660\n",
       "Name: life_expectancy, dtype: float64"
      ]
     },
     "execution_count": 37,
     "metadata": {},
     "output_type": "execute_result"
    }
   ],
   "source": [
    "df.groupby('continent')['life_expectancy'].median()"
   ]
  },
  {
   "cell_type": "code",
   "execution_count": 39,
   "id": "f9d49c8e-45e6-4eb1-b8c8-8c922d4ecabd",
   "metadata": {},
   "outputs": [
    {
     "data": {
      "text/plain": [
       "[     P            Team  GP   W   D   L   F   A  GD  Pts  \\\n",
       " 0    1     Real Madrid  38  29   8   1  87  26  61   95   \n",
       " 1    2       Barcelona  38  26   7   5  79  44  35   85   \n",
       " 2    3          Girona  38  25   6   7  85  46  39   81   \n",
       " 3    4        Atlético  38  24   4  10  70  43  27   76   \n",
       " 4    5        A Bilbao  38  19  11   8  61  37  24   68   \n",
       " 5    6   Real Sociedad  38  16  12  10  51  39  12   60   \n",
       " 6    7      Real Betis  38  14  15   9  48  45   3   57   \n",
       " 7    8      Villarreal  38  14  11  13  65  65   0   53   \n",
       " 8    9        Valencia  38  13  10  15  40  45  -5   49   \n",
       " 9   10          Alaves  38  12  10  16  36  46 -10   46   \n",
       " 10  11         Osasuna  38  12   9  17  45  56 -11   45   \n",
       " 11  12          Getafe  38  10  13  15  42  54 -12   43   \n",
       " 12  13      Celta Vigo  38  10  11  17  46  57 -11   41   \n",
       " 13  14         Sevilla  38  10  11  17  48  54  -6   41   \n",
       " 14  15        Mallorca  38   8  16  14  33  44 -11   40   \n",
       " 15  16      Las Palmas  38  10  10  18  33  47 -14   40   \n",
       " 16  17  Rayo Vallecano  38   8  14  16  29  48 -19   38   \n",
       " 17  18           Cadiz  38   6  15  17  26  55 -29   33   \n",
       " 18  19         Almeria  38   3  12  23  43  75 -32   21   \n",
       " 19  20         Granada  38   4   9  25  38  79 -41   21   \n",
       " \n",
       "                                                  Form  \n",
       " 0   Won 3-0 against Cadiz  Won 4-0 against Granada...  \n",
       " 1   Lost 2-4 to Girona  Won 2-0 against Real Socie...  \n",
       " 2   Won 4-2 against Barcelona  Drew 2-2 with Alave...  \n",
       " 3   Won 1-0 against Mallorca  Won 1-0 against Celt...  \n",
       " 4   Won 2-0 against Getafe  Drew 2-2 with Osasuna ...  \n",
       " 5   Won 2-0 against Las Palmas  Lost 0-2 to Barcel...  \n",
       " 6   Won 2-0 against Osasuna  Won 3-2 against Almer...  \n",
       " 7   Lost 2-3 to Celta Vigo  Won 3-2 against Sevill...  \n",
       " 8   Lost 0-1 to Alaves  Drew 0-0 with Rayo Valleca...  \n",
       " 9   Won 1-0 against Valencia  Drew 2-2 with Girona...  \n",
       " 10  Lost 0-2 to Real Betis  Drew 2-2 with A Bilbao...  \n",
       " 11  Lost 0-2 to A Bilbao  Lost 0-1 to Cadiz  Lost ...  \n",
       " 12  Won 3-2 against Villarreal  Lost 0-1 to Atléti...  \n",
       " 13  Won 3-0 against Granada  Lost 2-3 to Villarrea...  \n",
       " 14  Lost 0-1 to Atlético  Won 1-0 against Las Palm...  \n",
       " 15  Lost 0-2 to Real Sociedad  Lost 0-1 to Mallorc...  \n",
       " 16  Lost 0-1 to Almeria  Drew 0-0 with Valencia  W...  \n",
       " 17  Lost 0-3 to Real Madrid  Won 1-0 against Getaf...  \n",
       " 18  Won 1-0 against Rayo Vallecano  Lost 2-3 to Re...  \n",
       " 19  Lost 0-3 to Sevilla  Lost 0-4 to Real Madrid  ...  ]"
      ]
     },
     "execution_count": 39,
     "metadata": {},
     "output_type": "execute_result"
    }
   ],
   "source": [
    "url = \"https://www.theguardian.com/football/laligafootball/table\"\n",
    "pd.read_html(url)"
   ]
  },
  {
   "cell_type": "code",
   "execution_count": 40,
   "id": "cd489b93-0ffe-45f0-b799-c77c10dbfcfd",
   "metadata": {},
   "outputs": [
    {
     "data": {
      "text/plain": [
       "1"
      ]
     },
     "execution_count": 40,
     "metadata": {},
     "output_type": "execute_result"
    }
   ],
   "source": [
    "import pandas as pd\n",
    "\n",
    "url = \"https://www.theguardian.com/football/laligafootball/table\"\n",
    "tables = pd.read_html(url)\n",
    "len(tables)"
   ]
  },
  {
   "cell_type": "code",
   "execution_count": null,
   "id": "54bea4e7-eb9b-4f43-a818-412ef077b6a4",
   "metadata": {},
   "outputs": [],
   "source": []
  }
 ],
 "metadata": {
  "kernelspec": {
   "display_name": "Python 3 (ipykernel)",
   "language": "python",
   "name": "python3"
  },
  "language_info": {
   "codemirror_mode": {
    "name": "ipython",
    "version": 3
   },
   "file_extension": ".py",
   "mimetype": "text/x-python",
   "name": "python",
   "nbconvert_exporter": "python",
   "pygments_lexer": "ipython3",
   "version": "3.11.8"
  }
 },
 "nbformat": 4,
 "nbformat_minor": 5
}
